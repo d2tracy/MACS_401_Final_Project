{
 "cells": [
  {
   "cell_type": "code",
   "execution_count": 146,
   "id": "983b20bf-0075-4adc-b26c-dc8a2c56f5e6",
   "metadata": {},
   "outputs": [],
   "source": [
    "import numpy as np\n",
    "from matplotlib import pyplot as plt\n",
    "import pandas as pd\n",
    "import math"
   ]
  },
  {
   "cell_type": "markdown",
   "id": "7cc62f15-098a-4391-b3ca-0f17abea9008",
   "metadata": {},
   "source": [
    "## Section 1: Imput\n",
    "### Section 1 takes any csv imput downloaded in the same format as the USGS earthquake catelog and converts it into an array so that it can be processed. It can take a minimum earthquake value of 2.0 and a maximum earthquake value of a 10.0 This program can take up to 3 different datasets at once. They are labeled as slots A, B, and C."
   ]
  },
  {
   "cell_type": "markdown",
   "id": "dd03a0b7-2d79-4463-b5cb-6642b76114b2",
   "metadata": {},
   "source": [
    "Here, data converted from a csv format outside the notebook into a pandas dataframe in the notebook. The dataframe loaded into slot A is refered to as \"Aaed\", the dataframe loaded into slot B is refered to as \"Baed\", and the datafram loaded into slot C is refered to as \"Caed\"."
   ]
  },
  {
   "cell_type": "code",
   "execution_count": 147,
   "id": "f6aaedfb-bad2-4191-a259-34c382bc90ab",
   "metadata": {},
   "outputs": [],
   "source": [
    "#Imput Slot A:\n",
    "#Array A Title: Alaska Subduction Zone\n",
    "Aaed = pd.read_csv(r\"C:\\Users\\decla\\MACS_401_Final\\Alaska_subduction_zone_EQ_data.csv\")\n",
    "\n",
    "\n",
    "#Imput Slot B:\n",
    "#Array B Title: San Andreas Fault Area\n",
    "Baed = pd.read_csv(r\"C:\\Users\\decla\\MACS_401_Final\\San_Andreas_EQ_data.csv\")\n",
    "\n",
    "\n",
    "#Imput Slot C:\n",
    "#Array C Title: Bay Area from 1965 through 2022\n",
    "Caed = pd.read_csv(r\"C:\\Users\\decla\\Downloads\\Bay_Area_eq_1996_2022.csv\")"
   ]
  },
  {
   "cell_type": "markdown",
   "id": "b7ddd281-4776-490c-9242-64b28e9f448f",
   "metadata": {},
   "source": [
    "This step makes a numpy array of the magnitude of each earthquake."
   ]
  },
  {
   "cell_type": "code",
   "execution_count": 148,
   "id": "5c167214-cf08-4d4d-b049-e58c5d2d68a0",
   "metadata": {},
   "outputs": [],
   "source": [
    "#This step converts all earthquake magnitudes and makes them into numpy arrays\n",
    "arr_aed = Aaed['mag'].to_numpy()\n",
    "brr_aed = Baed['mag'].to_numpy()\n",
    "crr_aed = Caed['mag'].to_numpy()"
   ]
  },
  {
   "cell_type": "code",
   "execution_count": 149,
   "id": "9019cbbb-b46c-4506-ac07-f49816413f2c",
   "metadata": {},
   "outputs": [],
   "source": [
    "#End of Section 1"
   ]
  },
  {
   "cell_type": "markdown",
   "id": "1ae08b4e-894c-456e-9e31-f5e866645936",
   "metadata": {},
   "source": [
    "## Section 2: Processing\n",
    "### Section 2 creates variables that indicate how many earthquakes occured greater than all magnitudes 2 through 10. It then makes additional arrays with these variables, comparing the number of earthquakes greater than a certain magnitude to that certain magnitude."
   ]
  },
  {
   "cell_type": "markdown",
   "id": "315f3e27-03b2-4b09-a057-e708f9c56fd1",
   "metadata": {},
   "source": [
    "This step makes a variable for each magnitude value from 2 to 10, at increments of 0.1 magnitude. It sets this variable equal to the number of earthquakes equal to or greather than that magnitude. It does this for each slot."
   ]
  },
  {
   "cell_type": "code",
   "execution_count": 150,
   "id": "a2295fd3-9a47-4fc1-a030-b803829ebe8f",
   "metadata": {},
   "outputs": [],
   "source": [
    "##FOR ALASKA DATA (ARRAY A)\n",
    "\n",
    "a2=(arr_aed > 1.9).sum()\n",
    "a2_1=(arr_aed > 2).sum()\n",
    "a2_2=(arr_aed > 2.1).sum()\n",
    "a2_3=(arr_aed > 2.2).sum()\n",
    "a2_4=(arr_aed > 2.3).sum()\n",
    "a2_5=(arr_aed > 2.4).sum()\n",
    "a2_6=(arr_aed > 2.5).sum()\n",
    "a2_7=(arr_aed > 2.6).sum()\n",
    "a2_8=(arr_aed > 2.7).sum()\n",
    "a2_9=(arr_aed > 2.8).sum()\n",
    "\n",
    "a3=(arr_aed > 2.9).sum()\n",
    "a3_1=(arr_aed > 3).sum()\n",
    "a3_2=(arr_aed > 3.1).sum()\n",
    "a3_3=(arr_aed > 3.2).sum()\n",
    "a3_4=(arr_aed > 3.3).sum()\n",
    "a3_5=(arr_aed > 3.4).sum()\n",
    "a3_6=(arr_aed > 3.5).sum()\n",
    "a3_7=(arr_aed > 3.6).sum()\n",
    "a3_8=(arr_aed > 3.7).sum()\n",
    "a3_9=(arr_aed > 3.8).sum()\n",
    "\n",
    "a4=(arr_aed > 3.9).sum()\n",
    "a4_1=(arr_aed > 4).sum()\n",
    "a4_2=(arr_aed > 4.1).sum()\n",
    "a4_3=(arr_aed > 4.2).sum()\n",
    "a4_4=(arr_aed > 4.3).sum()\n",
    "a4_5=(arr_aed > 4.4).sum()\n",
    "a4_6=(arr_aed > 4.5).sum()\n",
    "a4_7=(arr_aed > 4.6).sum()\n",
    "a4_8=(arr_aed > 4.7).sum()\n",
    "a4_9=(arr_aed > 4.8).sum()\n",
    "\n",
    "a5=(arr_aed > 4.9).sum()\n",
    "a5_1=(arr_aed > 5).sum()\n",
    "a5_2=(arr_aed > 5.1).sum()\n",
    "a5_3=(arr_aed > 5.2).sum()\n",
    "a5_4=(arr_aed > 5.3).sum()\n",
    "a5_5=(arr_aed > 5.4).sum()\n",
    "a5_6=(arr_aed > 5.5).sum()\n",
    "a5_7=(arr_aed > 5.6).sum()\n",
    "a5_8=(arr_aed > 5.7).sum()\n",
    "a5_9=(arr_aed > 5.8).sum()\n",
    "\n",
    "a6=(arr_aed > 5.9).sum()\n",
    "a6_1=(arr_aed > 6).sum()\n",
    "a6_2=(arr_aed > 6.1).sum()\n",
    "a6_3=(arr_aed > 6.2).sum()\n",
    "a6_4=(arr_aed > 6.3).sum()\n",
    "a6_5=(arr_aed > 6.4).sum()\n",
    "a6_6=(arr_aed > 6.5).sum()\n",
    "a6_7=(arr_aed > 6.6).sum()\n",
    "a6_8=(arr_aed > 6.7).sum()\n",
    "a6_9=(arr_aed > 6.8).sum()\n",
    "\n",
    "a7=(arr_aed > 6.9).sum()\n",
    "a7_1=(arr_aed > 7).sum()\n",
    "a7_2=(arr_aed > 7.1).sum()\n",
    "a7_3=(arr_aed > 7.2).sum()\n",
    "a7_4=(arr_aed > 7.3).sum()\n",
    "a7_5=(arr_aed > 7.4).sum()\n",
    "a7_6=(arr_aed > 7.5).sum()\n",
    "a7_7=(arr_aed > 7.6).sum()\n",
    "a7_8=(arr_aed > 7.7).sum()\n",
    "a7_9=(arr_aed > 7.8).sum()\n",
    "\n",
    "a8=(arr_aed > 7.9).sum()\n",
    "a8_1=(arr_aed > 8).sum()\n",
    "a8_2=(arr_aed > 8.1).sum()\n",
    "a8_3=(arr_aed > 8.2).sum()\n",
    "a8_4=(arr_aed > 8.3).sum()\n",
    "a8_5=(arr_aed > 8.4).sum()\n",
    "a8_6=(arr_aed > 8.5).sum()\n",
    "a8_7=(arr_aed > 8.6).sum()\n",
    "a8_8=(arr_aed > 8.7).sum()\n",
    "a8_9=(arr_aed > 8.8).sum()\n",
    "\n",
    "a9=(arr_aed > 8.9).sum()\n",
    "a9_1=(arr_aed > 9).sum()\n",
    "a9_2=(arr_aed > 9.1).sum()\n",
    "a9_3=(arr_aed > 9.2).sum()\n",
    "a9_4=(arr_aed > 9.3).sum()\n",
    "a9_5=(arr_aed > 9.4).sum()\n",
    "a9_6=(arr_aed > 9.5).sum()\n",
    "a9_7=(arr_aed > 9.6).sum()\n",
    "a9_8=(arr_aed > 9.7).sum()\n",
    "a9_9=(arr_aed > 9.8).sum()\n",
    "a10=(arr_aed > 9.9).sum()"
   ]
  },
  {
   "cell_type": "code",
   "execution_count": 151,
   "id": "30474615-1a81-445a-a6bf-7c3fcbb985b3",
   "metadata": {},
   "outputs": [],
   "source": [
    "##FOR JAPAN DATA (ARRAY B)\n",
    "\n",
    "b2=(brr_aed > 1.9).sum()\n",
    "b2_1=(brr_aed > 2).sum()\n",
    "b2_2=(brr_aed > 2.1).sum()\n",
    "b2_3=(brr_aed > 2.2).sum()\n",
    "b2_4=(brr_aed > 2.3).sum()\n",
    "b2_5=(brr_aed > 2.4).sum()\n",
    "b2_6=(brr_aed > 2.5).sum()\n",
    "b2_7=(brr_aed > 2.6).sum()\n",
    "b2_8=(brr_aed > 2.7).sum()\n",
    "b2_9=(brr_aed > 2.8).sum()\n",
    "\n",
    "b3=(brr_aed > 2.9).sum()\n",
    "b3_1=(brr_aed > 3).sum()\n",
    "b3_2=(brr_aed > 3.1).sum()\n",
    "b3_3=(brr_aed > 3.2).sum()\n",
    "b3_4=(brr_aed > 3.3).sum()\n",
    "b3_5=(brr_aed > 3.4).sum()\n",
    "b3_6=(brr_aed > 3.5).sum()\n",
    "b3_7=(brr_aed > 3.6).sum()\n",
    "b3_8=(brr_aed > 3.7).sum()\n",
    "b3_9=(brr_aed > 3.8).sum()\n",
    "\n",
    "b4=(brr_aed > 3.9).sum()\n",
    "b4_1=(brr_aed > 4).sum()\n",
    "b4_2=(brr_aed > 4.1).sum()\n",
    "b4_3=(brr_aed > 4.2).sum()\n",
    "b4_4=(brr_aed > 4.3).sum()\n",
    "b4_5=(brr_aed > 4.4).sum()\n",
    "b4_6=(brr_aed > 4.5).sum()\n",
    "b4_7=(brr_aed > 4.6).sum()\n",
    "b4_8=(brr_aed > 4.7).sum()\n",
    "b4_9=(brr_aed > 4.8).sum()\n",
    "\n",
    "b5=(brr_aed > 4.9).sum()\n",
    "b5_1=(brr_aed > 5).sum()\n",
    "b5_2=(brr_aed > 5.1).sum()\n",
    "b5_3=(brr_aed > 5.2).sum()\n",
    "b5_4=(brr_aed > 5.3).sum()\n",
    "b5_5=(brr_aed > 5.4).sum()\n",
    "b5_6=(brr_aed > 5.5).sum()\n",
    "b5_7=(brr_aed > 5.6).sum()\n",
    "b5_8=(brr_aed > 5.7).sum()\n",
    "b5_9=(brr_aed > 5.8).sum()\n",
    "\n",
    "b6=(brr_aed > 5.9).sum()\n",
    "b6_1=(brr_aed > 6).sum()\n",
    "b6_2=(brr_aed > 6.1).sum()\n",
    "b6_3=(brr_aed > 6.2).sum()\n",
    "b6_4=(brr_aed > 6.3).sum()\n",
    "b6_5=(brr_aed > 6.4).sum()\n",
    "b6_6=(brr_aed > 6.5).sum()\n",
    "b6_7=(brr_aed > 6.6).sum()\n",
    "b6_8=(brr_aed > 6.7).sum()\n",
    "b6_9=(brr_aed > 6.8).sum()\n",
    "\n",
    "b7=(brr_aed > 6.9).sum()\n",
    "b7_1=(brr_aed > 7).sum()\n",
    "b7_2=(brr_aed > 7.1).sum()\n",
    "b7_3=(brr_aed > 7.2).sum()\n",
    "b7_4=(brr_aed > 7.3).sum()\n",
    "b7_5=(brr_aed > 7.4).sum()\n",
    "b7_6=(brr_aed > 7.5).sum()\n",
    "b7_7=(brr_aed > 7.6).sum()\n",
    "b7_8=(brr_aed > 7.7).sum()\n",
    "b7_9=(brr_aed > 7.8).sum()\n",
    "\n",
    "b8=(brr_aed > 7.9).sum()\n",
    "b8_1=(brr_aed > 8).sum()\n",
    "b8_2=(brr_aed > 8.1).sum()\n",
    "b8_3=(brr_aed > 8.2).sum()\n",
    "b8_4=(brr_aed > 8.3).sum()\n",
    "b8_5=(brr_aed > 8.4).sum()\n",
    "b8_6=(brr_aed > 8.5).sum()\n",
    "b8_7=(brr_aed > 8.6).sum()\n",
    "b8_8=(brr_aed > 8.7).sum()\n",
    "b8_9=(brr_aed > 8.8).sum()\n",
    "\n",
    "b9=(brr_aed > 8.9).sum()\n",
    "b9_1=(brr_aed > 9).sum()\n",
    "b9_2=(brr_aed > 9.1).sum()\n",
    "b9_3=(brr_aed > 9.2).sum()\n",
    "b9_4=(brr_aed > 9.3).sum()\n",
    "b9_5=(brr_aed > 9.4).sum()\n",
    "b9_6=(brr_aed > 9.5).sum()\n",
    "b9_7=(brr_aed > 9.6).sum()\n",
    "b9_8=(brr_aed > 9.7).sum()\n",
    "b9_9=(brr_aed > 9.8).sum()\n",
    "\n",
    "b10=(brr_aed > 9.9).sum()"
   ]
  },
  {
   "cell_type": "code",
   "execution_count": 152,
   "id": "2f41e139-6980-41e6-bdde-5ac8468cf3d9",
   "metadata": {},
   "outputs": [],
   "source": [
    "##FOR Chile DATA (ARRAY C)\n",
    "\n",
    "c2=(crr_aed > 1.9).sum()\n",
    "c2_1=(crr_aed > 2).sum()\n",
    "c2_2=(crr_aed > 2.1).sum()\n",
    "c2_3=(crr_aed > 2.2).sum()\n",
    "c2_4=(crr_aed > 2.3).sum()\n",
    "c2_5=(crr_aed > 2.4).sum()\n",
    "c2_6=(crr_aed > 2.5).sum()\n",
    "c2_7=(crr_aed > 2.6).sum()\n",
    "c2_8=(crr_aed > 2.7).sum()\n",
    "c2_9=(crr_aed > 2.8).sum()\n",
    "\n",
    "c3=(crr_aed > 2.9).sum()\n",
    "c3_1=(crr_aed > 3).sum()\n",
    "c3_2=(crr_aed > 3.1).sum()\n",
    "c3_3=(crr_aed > 3.2).sum()\n",
    "c3_4=(crr_aed > 3.3).sum()\n",
    "c3_5=(crr_aed > 3.4).sum()\n",
    "c3_6=(crr_aed > 3.5).sum()\n",
    "c3_7=(crr_aed > 3.6).sum()\n",
    "c3_8=(crr_aed > 3.7).sum()\n",
    "c3_9=(crr_aed > 3.8).sum()\n",
    "\n",
    "c4=(crr_aed > 3.9).sum()\n",
    "c4_1=(crr_aed > 4).sum()\n",
    "c4_2=(crr_aed > 4.1).sum()\n",
    "c4_3=(crr_aed > 4.2).sum()\n",
    "c4_4=(crr_aed > 4.3).sum()\n",
    "c4_5=(crr_aed > 4.4).sum()\n",
    "c4_6=(crr_aed > 4.5).sum()\n",
    "c4_7=(crr_aed > 4.6).sum()\n",
    "c4_8=(crr_aed > 4.7).sum()\n",
    "c4_9=(crr_aed > 4.8).sum()\n",
    "\n",
    "c5=(crr_aed > 4.9).sum()\n",
    "c5_1=(crr_aed > 5).sum()\n",
    "c5_2=(crr_aed > 5.1).sum()\n",
    "c5_3=(crr_aed > 5.2).sum()\n",
    "c5_4=(crr_aed > 5.3).sum()\n",
    "c5_5=(crr_aed > 5.4).sum()\n",
    "c5_6=(crr_aed > 5.5).sum()\n",
    "c5_7=(crr_aed > 5.6).sum()\n",
    "c5_8=(crr_aed > 5.7).sum()\n",
    "c5_9=(crr_aed > 5.8).sum()\n",
    "\n",
    "c6=(crr_aed > 5.9).sum()\n",
    "c6_1=(crr_aed > 6).sum()\n",
    "c6_2=(crr_aed > 6.1).sum()\n",
    "c6_3=(crr_aed > 6.2).sum()\n",
    "c6_4=(crr_aed > 6.3).sum()\n",
    "c6_5=(crr_aed > 6.4).sum()\n",
    "c6_6=(crr_aed > 6.5).sum()\n",
    "c6_7=(crr_aed > 6.6).sum()\n",
    "c6_8=(crr_aed > 6.7).sum()\n",
    "c6_9=(crr_aed > 6.8).sum()\n",
    "\n",
    "c7=(crr_aed > 6.9).sum()\n",
    "c7_1=(crr_aed > 7).sum()\n",
    "c7_2=(crr_aed > 7.1).sum()\n",
    "c7_3=(crr_aed > 7.2).sum()\n",
    "c7_4=(crr_aed > 7.3).sum()\n",
    "c7_5=(crr_aed > 7.4).sum()\n",
    "c7_6=(crr_aed > 7.5).sum()\n",
    "c7_7=(crr_aed > 7.6).sum()\n",
    "c7_8=(crr_aed > 7.7).sum()\n",
    "c7_9=(crr_aed > 7.8).sum()\n",
    "\n",
    "c8=(crr_aed > 7.9).sum()\n",
    "c8_1=(crr_aed > 8).sum()\n",
    "c8_2=(crr_aed > 8.1).sum()\n",
    "c8_3=(crr_aed > 8.2).sum()\n",
    "c8_4=(crr_aed > 8.3).sum()\n",
    "c8_5=(crr_aed > 8.4).sum()\n",
    "c8_6=(crr_aed > 8.5).sum()\n",
    "c8_7=(crr_aed > 8.6).sum()\n",
    "c8_8=(crr_aed > 8.7).sum()\n",
    "c8_9=(crr_aed > 8.8).sum()\n",
    "\n",
    "c9=(crr_aed > 8.9).sum()\n",
    "c9_1=(crr_aed > 9).sum()\n",
    "c9_2=(crr_aed > 9.1).sum()\n",
    "c9_3=(crr_aed > 9.2).sum()\n",
    "c9_4=(crr_aed > 9.3).sum()\n",
    "c9_5=(crr_aed > 9.4).sum()\n",
    "c9_6=(crr_aed > 9.5).sum()\n",
    "c9_7=(crr_aed > 9.6).sum()\n",
    "c9_8=(crr_aed > 9.7).sum()\n",
    "c9_9=(crr_aed > 9.8).sum()\n",
    "c10=(crr_aed > 9.9).sum()"
   ]
  },
  {
   "cell_type": "markdown",
   "id": "76c2a285-7549-4eef-a7d7-511a0f49af29",
   "metadata": {},
   "source": [
    "This step puts the variables created into numpy arrays. Additionally, it creates another array for each magnitude that consists of numerical values of the magnitudes that the variables represent. I chose to write these out by hand because it makes cleanup processes easier if I want to change the way the data is graphed. It does this process for each slot."
   ]
  },
  {
   "cell_type": "code",
   "execution_count": 153,
   "id": "c7053950-d034-4205-8434-8ebb5fe4e52b",
   "metadata": {},
   "outputs": [],
   "source": [
    "#Novaluesremoved# \n",
    "#Anumag = np.array([a2,a2_1,a2_2,a2_3,a2_4,a2_5,a2_6,a2_7,a2_8,a2_9,a3,a3_1,a3_2,a3_3,a3_4,a3_5,a3_6,a3_7,a3_8,a3_9,a4,a4_1,a4_2,a4_3,a4_4,a4_5,a4_6,a4_7,a4_8,a4_9,a5,a5_1,a5_2,a5_3,a5_4,a5_5,a5_6,a5_7,a5_8,a5_9,a6,a6_1,a6_2,a6_3,a6_4,a6_5,a6_6,a6_7,a6_8,a6_9,a7,a7_1,a7_2,a7_3,a7_4,a7_5,a7_6,a7_7,a7_8,a7_9,a8,a8_1,a8_2])\n",
    "\n",
    "#NOvaluesremoved# \n",
    "#numofmagsA = np.array([2,2.1,2.2,2.3,2.4,2.5,2.6,2.7,2.8,2.9,3,3.1,3.2,3.3,3.4,3.5,3.6,3.7,3.8,3.9,4,4.1,4.2,4.3,4.4,4.5,4.6,4.7,4.8,4.9,5,5.1,5.2,5.3,5.4,5.5,5.6,5.7,5.8,5.9,6,6.1,6.2,6.3,6.4,6.5,6.6,6.7,6.8,6.9,7,7.1,7.2,7.3,7.4,7.5,7.6,7.7,7.8,7.9,8,8.1,8.2])\n",
    "\n",
    "#Working Arrays:\n",
    "\n",
    "Anumag = np.array([a2,a2_1,a2_2,a2_3,a2_4,a2_5,a2_6,a2_7,a2_8,a2_9,a3,a3_1,a3_2,a3_3,a3_4,a3_5,a3_6,a3_7,a3_8,a3_9,a4,a4_1,a4_2,a4_3,a4_4,a4_5,a4_6,a4_7,a4_8,a4_9,a5,a5_1,a5_2,a5_3,a5_4,a5_5,a5_6,a5_7,a5_8,a5_9,a6,a6_1,a6_2,a6_3,a6_4,a6_5,a6_6,a6_7,a6_8,a6_9,a7,a7_1,a7_2,a7_3,a7_4,a7_5,a7_6,a7_7,a7_8,a7_9,a8,a8_1,a8_2,a8_3,a8_4,a8_5,a8_6,a8_7,a8_8,a8_9,a9,a9_1,a9_2,a9_3,a9_4,a9_5,a9_6,a9_7,a9_8,a9_9,a10])\n",
    "\n",
    "\n",
    "numofmagsA = np.array([2,2.1,2.2,2.3,2.4,2.5,2.6,2.7,2.8,2.9,3,3.1,3.2,3.3,3.4,3.5,3.6,3.7,3.8,3.9,4,4.1,4.2,4.3,4.4,4.5,4.6,4.7,4.8,4.9,5,5.1,5.2,5.3,5.4,5.5,5.6,5.7,5.8,5.9,6,6.1,6.2,6.3,6.4,6.5,6.6,6.7,6.8,6.9,7,7.1,7.2,7.3,7.4,7.5,7.6,7.7,7.8,7.9,8,8.1,8.2,8.3,8.4,8.5,8.6,8.7,8.8,8.9,9,9.1,9.2,9.3,9.4,9.5,9.6,9.7,9.8,9.9,10])\n"
   ]
  },
  {
   "cell_type": "code",
   "execution_count": 154,
   "id": "715a2197-767a-4352-b56b-e0f39251e4da",
   "metadata": {},
   "outputs": [],
   "source": [
    "#Novaluesremoved# \n",
    "#Bnumag = np.array([b2,b2_1,b2_2,b2_3,b2_4,b2_5,b2_6,b2_7,b2_8,b2_9,b3,b3_1,b3_2,b3_3,b3_4,b3_5,b3_6,b3_7,b3_8,b3_9,b4,b4_1,b4_2,b4_3,b4_4,b4_5,b4_6,b4_7,b4_8,b4_9,b5,b5_1,b5_2,b5_3,b5_4,b5_5,b5_6,b5_7,b5_8,b5_9,b6,b6_1,b6_2,b6_3,b6_4,b6_5,b6_6,b6_7,b6_8,b6_9,b7,b7_1,b7_2,b7_3,b7_4,b7_5,b7_6,b7_7,b7_8,b7_9,b8,b8_1,b8_2,b8_3,b8_4,b8_5,b8_6,b8_7,b8_8,b8_9,b9,b9_1,b9_2,b9_3,b9_4,b9_5,b9_6,b9_7,b9_8,b9_9,b10])\n",
    "\n",
    "#NOvaluesremoved# \n",
    "#numofmagsB = np.array([2,2.1,2.2,2.3,2.4,2.5,2.6,2.7,2.8,2.9,3,3.1,3.2,3.3,3.4,3.5,3.6,3.7,3.8,3.9,4,4.1,4.2,4.3,4.4,4.5,4.6,4.7,4.8,4.9,5,5.1,5.2,5.3,5.4,5.5,5.6,5.7,5.8,5.9,6,6.1,6.2,6.3,6.4,6.5,6.6,6.7,6.8,6.9,7,7.1,7.2,7.3,7.4,7.5,7.6,7.7,7.8,7.9,8,8.1,8.2,8.3,8.4,8.5,8.6,8.7,8.8,8.9,9,9.1,9.2,9.3,9.4,9.5,9.6,9.7,9.8,9.9,10])\n",
    "\n",
    "#Working Arrays:\n",
    "\n",
    "Bnumag = np.array([b2,b2_1,b2_2,b2_3,b2_4,b2_5,b2_6,b2_7,b2_8,b2_9,b3,b3_1,b3_2,b3_3,b3_4,b3_5,b3_6,b3_7,b3_8,b3_9,b4,b4_1,b4_2,b4_3,b4_4,b4_5,b4_6,b4_7,b4_8,b4_9,b5,b5_1,b5_2,b5_3,b5_4,b5_5,b5_6,b5_7,b5_8,b5_9,b6,b6_1,b6_2,b6_3,b6_4,b6_5,b6_6,b6_7,b6_8,b6_9,b7,b7_1,b7_2,b7_3,b7_4,b7_5,b7_6,b7_7,b7_8,b7_9,b8,b8_1,b8_2,b8_3,b8_4,b8_5,b8_6,b8_7,b8_8,b8_9,b9,b9_1,b9_2,b9_3,b9_4,b9_5,b9_6,b9_7,b9_8,b9_9,b10])\n",
    "\n",
    "numofmagsB = np.array([2,2.1,2.2,2.3,2.4,2.5,2.6,2.7,2.8,2.9,3,3.1,3.2,3.3,3.4,3.5,3.6,3.7,3.8,3.9,4,4.1,4.2,4.3,4.4,4.5,4.6,4.7,4.8,4.9,5,5.1,5.2,5.3,5.4,5.5,5.6,5.7,5.8,5.9,6,6.1,6.2,6.3,6.4,6.5,6.6,6.7,6.8,6.9,7,7.1,7.2,7.3,7.4,7.5,7.6,7.7,7.8,7.9,8,8.1,8.2,8.3,8.4,8.5,8.6,8.7,8.8,8.9,9,9.1,9.2,9.3,9.4,9.5,9.6,9.7,9.8,9.9,10])"
   ]
  },
  {
   "cell_type": "code",
   "execution_count": 155,
   "id": "6fee9fe7-a827-43c0-831a-d7b1e896a66f",
   "metadata": {},
   "outputs": [],
   "source": [
    "#Novaluesremoved \n",
    "#Cnumag = np.array([c2,c2_1,c2_2,c2_3,c2_4,c2_5,c2_6,c2_7,c2_8,c2_9,c3,c3_1,c3_2,c3_3,c3_4,c3_5,c3_6,c3_7,c3_8,c3_9,c4,c4_1,c4_2,c4_3,c4_4,c4_5,c4_6,c4_7,c4_8,c4_9,c5,c5_1,c5_2,c5_3,c5_4,c5_5,c5_6,c5_7,c5_8,c5_9,c6,c6_1,c6_2,c6_3,c6_4,c6_5,c6_6,c6_7,c6_8,c6_9,c7,c7_1,c7_2,c7_3,c7_4,c7_5,c7_6,c7_7,c7_8,c7_9,c8,c8_1,c8_2])\n",
    "\n",
    "#NOvaluesremoved# \n",
    "#numofmagsC = np.array([2,2.1,2.2,2.3,2.4,2.5,2.6,2.7,2.8,2.9,3,3.1,3.2,3.3,3.4,3.5,3.6,3.7,3.8,3.9,4,4.1,4.2,4.3,4.4,4.5,4.6,4.7,4.8,4.9,5,5.1,5.2,5.3,5.4,5.5,5.6,5.7,5.8,5.9,6,6.1,6.2,6.3,6.4,6.5,6.6,6.7,6.8,6.9,7,7.1,7.2,7.3,7.4,7.5,7.6,7.7,7.8,7.9,8,8.1,8.2])\n",
    "\n",
    "#Working Arrays:\n",
    "\n",
    "Cnumag = np.array([c2,c2_1,c2_2,c2_3,c2_4,c2_5,c2_6,c2_7,c2_8,c2_9,c3,c3_1,c3_2,c3_3,c3_4,c3_5,c3_6,c3_7,c3_8,c3_9,c4,c4_1,c4_2,c4_3,c4_4,c4_5,c4_6,c4_7,c4_8,c4_9,c5,c5_1,c5_2,c5_3,c5_4,c5_5,c5_6,c5_7,c5_8,c5_9,c6,c6_1,c6_2,c6_3,c6_4,c6_5,c6_6,c6_7,c6_8,c6_9,c7,c7_1,c7_2,c7_3,c7_4,c7_5,c7_6,c7_7,c7_8,c7_9,c8,c8_1,c8_2,c8_3,c8_4,c8_5,c8_6,c8_7,c8_8,c8_9,c9,c9_1,c9_2,c9_3,c9_4,c9_5,c9_6,c9_7,c9_8,c9_9,c10])\n",
    "\n",
    "numofmagsC = np.array([2,2.1,2.2,2.3,2.4,2.5,2.6,2.7,2.8,2.9,3,3.1,3.2,3.3,3.4,3.5,3.6,3.7,3.8,3.9,4,4.1,4.2,4.3,4.4,4.5,4.6,4.7,4.8,4.9,5,5.1,5.2,5.3,5.4,5.5,5.6,5.7,5.8,5.9,6,6.1,6.2,6.3,6.4,6.5,6.6,6.7,6.8,6.9,7,7.1,7.2,7.3,7.4,7.5,7.6,7.7,7.8,7.9,8,8.1,8.2,8.3,8.4,8.5,8.6,8.7,8.8,8.9,9,9.1,9.2,9.3,9.4,9.5,9.6,9.7,9.8,9.9,10])"
   ]
  },
  {
   "cell_type": "code",
   "execution_count": 156,
   "id": "cef453f5-cfe1-44b5-84bf-a3513a101908",
   "metadata": {},
   "outputs": [],
   "source": [
    "#End of Section 2"
   ]
  },
  {
   "cell_type": "markdown",
   "id": "bc76cbf6-5a9d-4178-a766-2612d4e4f712",
   "metadata": {},
   "source": [
    "## Section 3: Graphing\n",
    "### Section 3 graphs the data imputed in section 1 and proccessed in section 2."
   ]
  },
  {
   "cell_type": "markdown",
   "id": "b63842f1-7cb4-4084-b976-53b07544ac15",
   "metadata": {},
   "source": [
    "This step plots the data that has been processed. It plots the x values as magnitudes, and the y values as the number of earthquakes greater than or equal to that magnitude. Additionally, the plot auto-formats the x bounds of the graph so that they show the data, along whith the space 0.5 magnitude above and below the highest and lowest values, respectivly. Lastly, this segment of code allows for the graph and axis titles to be set. It does this for each slot"
   ]
  },
  {
   "cell_type": "markdown",
   "id": "a67887d7-d2e0-4f5c-96cc-3d2e46a3ad42",
   "metadata": {},
   "source": [
    "### Here is the Graph for Slot A:"
   ]
  },
  {
   "cell_type": "code",
   "execution_count": 157,
   "id": "07efcd35-a850-4444-ab33-c6b18787107f",
   "metadata": {},
   "outputs": [
    {
     "data": {
      "text/plain": [
       "Text(0.5, 1.0, 'Guternberg Richer Regression(Alaska Subduction Zone, 2021-2022)')"
      ]
     },
     "execution_count": 157,
     "metadata": {},
     "output_type": "execute_result"
    },
    {
     "data": {
      "image/png": "[encoded data removed]",
      "text/plain": [
       "<Figure size 1000x500 with 1 Axes>"
      ]
     },
     "metadata": {},
     "output_type": "display_data"
    }
   ],
   "source": [
    "###Array A plot:\n",
    "#This code plots the data\n",
    "fig,axes = plt.subplots(figsize=(10,5))\n",
    "\n",
    "x= numofmagsA\n",
    "y=Anumag\n",
    "\n",
    "plt.scatter(x,y)\n",
    "plt.yscale('log')\n",
    "\n",
    "#This code automaticlly sets the bounds to show the data, along with 0.5 magnitude on either side to make the graph more interpretable#\n",
    "xupA = (arr_aed.max()+0.5)\n",
    "xlowA = (arr_aed.min()-0.5)\n",
    "plt.xlim(xlowA,xupA)\n",
    "\n",
    "#This code sets the graph and axis titles\n",
    "axes.set_xlabel('Magnitude')\n",
    "axes.set_ylabel('Occurances')\n",
    "axes.set_title('Guternberg Richer Regression(Alaska Subduction Zone, 2021-2022)')"
   ]
  },
  {
   "cell_type": "markdown",
   "id": "96b5dc42-92b0-4b38-9827-af0060f85523",
   "metadata": {},
   "source": [
    "### Here is the Graph for Slot B:"
   ]
  },
  {
   "cell_type": "code",
   "execution_count": 158,
   "id": "8b9d6212-5123-4af6-b9da-6c0f02b43b41",
   "metadata": {},
   "outputs": [
    {
     "data": {
      "text/plain": [
       "Text(0.5, 1.0, 'Guternberg Richer Regression(San Andreas Area, 2021-2022)')"
      ]
     },
     "execution_count": 158,
     "metadata": {},
     "output_type": "execute_result"
    },
    {
     "data": {
      "image/png": "[encoded data removed]",
      "text/plain": [
       "<Figure size 1000x500 with 1 Axes>"
      ]
     },
     "metadata": {},
     "output_type": "display_data"
    }
   ],
   "source": [
    "#Array B plot:\n",
    "#This code plots the data\n",
    "fig,axes = plt.subplots(figsize=(10,5))\n",
    "\n",
    "x= numofmagsB\n",
    "y=Bnumag\n",
    "\n",
    "plt.scatter(x,y)\n",
    "plt.yscale('log')\n",
    "\n",
    "#This code automaticlly sets the bounds to show the data, along with 0.5 magnitude on either side to make the graph more interpretable#\n",
    "xupB = (brr_aed.max()+0.5)\n",
    "xlowB = (brr_aed.min()-0.5)\n",
    "plt.xlim(xlowB,xupB)\n",
    "\n",
    "#This code sets the graph and axis titles\n",
    "axes.set_xlabel('Magnitude')\n",
    "axes.set_ylabel('Occurances')\n",
    "axes.set_title('Guternberg Richer Regression(San Andreas Area, 2021-2022)')"
   ]
  },
  {
   "cell_type": "markdown",
   "id": "9b89f54e-d47d-4f3a-b572-9f6743f7c485",
   "metadata": {},
   "source": [
    "### Here is the Graph for Slot C:"
   ]
  },
  {
   "cell_type": "code",
   "execution_count": 159,
   "id": "0a6ff13f-5239-4823-8024-84b9f52a5160",
   "metadata": {},
   "outputs": [
    {
     "data": {
      "text/plain": [
       "Text(0.5, 1.0, 'Gutenberg Richer Regression(San Francisco Bay Area, 1965-2022)')"
      ]
     },
     "execution_count": 159,
     "metadata": {},
     "output_type": "execute_result"
    },
    {
     "data": {
      "image/png": "[encoded data removed]",
      "text/plain": [
       "<Figure size 1000x500 with 1 Axes>"
      ]
     },
     "metadata": {},
     "output_type": "display_data"
    }
   ],
   "source": [
    "#Array C plot:\n",
    "#This code plots the data\n",
    "fig,axes = plt.subplots(figsize=(10,5))\n",
    "\n",
    "x= numofmagsC\n",
    "y=Cnumag\n",
    "\n",
    "plt.scatter(x,y)\n",
    "plt.yscale('log')\n",
    "\n",
    "\n",
    "#This code automaticlly sets the bounds to show the data, along with 0.5 magnitude on either side to make the graph more interpretable#\n",
    "xupC = (crr_aed.max()+0.5)\n",
    "xlowC = (crr_aed.min()-0.5)\n",
    "plt.xlim(xlowC,xupC)\n",
    "\n",
    "#This code sets the graph and axis titles\n",
    "axes.set_xlabel('Magnitude')\n",
    "axes.set_ylabel('Occurances')\n",
    "axes.set_title('Gutenberg Richer Regression(San Francisco Bay Area, 1965-2022)')"
   ]
  },
  {
   "cell_type": "code",
   "execution_count": null,
   "id": "65969ed4-2e71-4c41-b248-144a78392bba",
   "metadata": {},
   "outputs": [],
   "source": []
  },
  {
   "cell_type": "markdown",
   "id": "62bc7a0e-5aca-4cd6-855c-638119e87a8f",
   "metadata": {},
   "source": [
    "This step displays a small figure indicating the number of values in each set, the largest earthquakes in each set, and the smallest earthquakes in each set"
   ]
  },
  {
   "cell_type": "code",
   "execution_count": 140,
   "id": "349ead0a-d1c2-447f-bc28-c67218b79170",
   "metadata": {},
   "outputs": [
    {
     "data": {
      "text/html": [
       "<div>\n",
       "<style scoped>\n",
       "    .dataframe tbody tr th:only-of-type {\n",
       "        vertical-align: middle;\n",
       "    }\n",
       "\n",
       "    .dataframe tbody tr th {\n",
       "        vertical-align: top;\n",
       "    }\n",
       "\n",
       "    .dataframe thead th {\n",
       "        text-align: right;\n",
       "    }\n",
       "</style>\n",
       "<table border=\"1\" class=\"dataframe\">\n",
       "  <thead>\n",
       "    <tr style=\"text-align: right;\">\n",
       "      <th></th>\n",
       "      <th>Slot A</th>\n",
       "      <th>Slot B</th>\n",
       "      <th>Slot C</th>\n",
       "    </tr>\n",
       "  </thead>\n",
       "  <tbody>\n",
       "    <tr>\n",
       "      <th>Number of Values</th>\n",
       "      <td>8902.0</td>\n",
       "      <td>2609.0</td>\n",
       "      <td>17308.0</td>\n",
       "    </tr>\n",
       "    <tr>\n",
       "      <th>Largest Magnitude</th>\n",
       "      <td>8.2</td>\n",
       "      <td>6.0</td>\n",
       "      <td>6.9</td>\n",
       "    </tr>\n",
       "    <tr>\n",
       "      <th>Smallest Magnitude</th>\n",
       "      <td>2.0</td>\n",
       "      <td>2.0</td>\n",
       "      <td>2.0</td>\n",
       "    </tr>\n",
       "  </tbody>\n",
       "</table>\n",
       "</div>"
      ],
      "text/plain": [
       "                    Slot A  Slot B   Slot C\n",
       "Number of Values    8902.0  2609.0  17308.0\n",
       "Largest Magnitude      8.2     6.0      6.9\n",
       "Smallest Magnitude     2.0     2.0      2.0"
      ]
     },
     "execution_count": 140,
     "metadata": {},
     "output_type": "execute_result"
    }
   ],
   "source": [
    "da0 = round(Aaed.shape[0])\n",
    "da1 = arr_aed.max()\n",
    "da2 = arr_aed.min()\n",
    "\n",
    "db0 = round(Baed.shape[0])\n",
    "db1 = brr_aed.max()\n",
    "db2 = brr_aed.min()\n",
    "\n",
    "dc0 = round(Caed.shape[0])\n",
    "dc1 = crr_aed.max()\n",
    "dc2 = crr_aed.min()\n",
    "\n",
    "\n",
    "d = {'Slot A':[da0,da1,da2],'Slot B':[db0,db1,db2],'Slot C':[dc0,dc1,dc2]}\n",
    "df = pd.DataFrame(data=d,index = ['Number of Values','Largest Magnitude','Smallest Magnitude'])\n",
    "df"
   ]
  },
  {
   "cell_type": "code",
   "execution_count": 141,
   "id": "ca542be8-a7f2-4a18-92e6-daa61ecd29b1",
   "metadata": {},
   "outputs": [],
   "source": [
    "#End of Section 3"
   ]
  },
  {
   "cell_type": "code",
   "execution_count": null,
   "id": "4722d7fc-0dc7-4b7b-adf7-9ba98c14dfb1",
   "metadata": {},
   "outputs": [],
   "source": []
  },
  {
   "cell_type": "code",
   "execution_count": 142,
   "id": "dfd5019d-1e39-4fd2-b630-79c6029f41e0",
   "metadata": {},
   "outputs": [],
   "source": [
    "#ENDOFCODE"
   ]
  },
  {
   "cell_type": "code",
   "execution_count": 143,
   "id": "003aff4e-8a6a-4398-b1e6-310c1878fab9",
   "metadata": {},
   "outputs": [],
   "source": [
    "#ENDOFCODE"
   ]
  },
  {
   "cell_type": "code",
   "execution_count": null,
   "id": "bf3fae36-a936-4c43-a341-6c0c811b0274",
   "metadata": {},
   "outputs": [],
   "source": [
    "#ENDOFCODE"
   ]
  }
 ],
 "metadata": {
  "kernelspec": {
   "display_name": "Python 3 (ipykernel)",
   "language": "python",
   "name": "python3"
  },
  "language_info": {
   "codemirror_mode": {
    "name": "ipython",
    "version": 3
   },
   "file_extension": ".py",
   "mimetype": "text/x-python",
   "name": "python",
   "nbconvert_exporter": "python",
   "pygments_lexer": "ipython3",
   "version": "3.9.13"
  }
 },
 "nbformat": 4,
 "nbformat_minor": 5
}
